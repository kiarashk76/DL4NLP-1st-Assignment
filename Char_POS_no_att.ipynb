{
  "nbformat": 4,
  "nbformat_minor": 0,
  "metadata": {
    "kernelspec": {
      "name": "python3",
      "display_name": "Python 3"
    },
    "language_info": {
      "codemirror_mode": {
        "name": "ipython",
        "version": 3
      },
      "file_extension": ".py",
      "mimetype": "text/x-python",
      "name": "python",
      "nbconvert_exporter": "python",
      "pygments_lexer": "ipython3",
      "version": "3.6.8"
    },
    "colab": {
      "name": "Char_POS_no_att.ipynb",
      "provenance": [],
      "collapsed_sections": [],
      "include_colab_link": true
    },
    "accelerator": "TPU"
  },
  "cells": [
    {
      "cell_type": "markdown",
      "metadata": {
        "id": "view-in-github",
        "colab_type": "text"
      },
      "source": [
        "<a href=\"https://colab.research.google.com/github/kiarashk76/DL4NLP-1st-Assignment/blob/master/Char_POS_no_att.ipynb\" target=\"_parent\"><img src=\"https://colab.research.google.com/assets/colab-badge.svg\" alt=\"Open In Colab\"/></a>"
      ]
    },
    {
      "cell_type": "code",
      "metadata": {
        "id": "2eU5N5EdwOJR",
        "colab_type": "code",
        "colab": {}
      },
      "source": [
        "!pip install flair"
      ],
      "execution_count": 0,
      "outputs": []
    },
    {
      "cell_type": "markdown",
      "metadata": {
        "id": "b3E2PO60EXNO",
        "colab_type": "text"
      },
      "source": [
        "# Custom Preprocessing"
      ]
    },
    {
      "cell_type": "code",
      "metadata": {
        "id": "72Pcs6W8wWa4",
        "colab_type": "code",
        "colab": {}
      },
      "source": [
        "import flair.datasets\n",
        "from flair.data import Sentence\n",
        "\n",
        "downsampled_corpus = flair.datasets.WIKINER_ENGLISH().downsample(0.01)\n",
        "corpus = flair.datasets.WIKINER_ENGLISH()\n",
        "print(len(downsampled_corpus.train))\n"
      ],
      "execution_count": 0,
      "outputs": []
    },
    {
      "cell_type": "code",
      "metadata": {
        "id": "ZONeuDazxbzC",
        "colab_type": "code",
        "colab": {}
      },
      "source": [
        "# number of apostrophies in Data\n",
        "c = 0 \n",
        "for sentence in corpus.train: \n",
        "\n",
        "  for token in sentence:\n",
        "    if \"'\" in token.text:\n",
        "      c += 1\n",
        "print(c)\n"
      ],
      "execution_count": 0,
      "outputs": []
    },
    {
      "cell_type": "code",
      "metadata": {
        "id": "F8imEpLCWBOa",
        "colab_type": "code",
        "colab": {}
      },
      "source": [
        "def apostrophe_handler(sentence):\n",
        "''' handling apostrophe usage for am, is, are '''\n",
        "  if type(sentence) == str:\n",
        "    result = sentence.replace(\"'m\", \" am\")\n",
        "    result = result.replace(\"'s\", \" is\")\n",
        "    result = result.replace(\"'re\", \" are\")\n",
        "    return result\n",
        "  elif type(sentence) == flair.data.Sentence:\n",
        "    result = \"\"\n",
        "    for token in sentence:\n",
        "      result += token.text + \" \"\n",
        "    result = result.replace(\"'m\", \" am\")\n",
        "    result = result.replace(\"'s\", \" is\")\n",
        "    result = result.replace(\"'re\", \" are\")\n",
        "    return result\n",
        "\n",
        "\n",
        "  \n",
        "print(apostrophe_handler(Sentence(\"I'm kiarash, he's ivan, they're studying\")))\n",
        "print(apostrophe_handler(\"I'm kiarash, he's ivan, they're studying\"))"
      ],
      "execution_count": 0,
      "outputs": []
    },
    {
      "cell_type": "code",
      "metadata": {
        "id": "AhCbXBDrzGZf",
        "colab_type": "code",
        "colab": {}
      },
      "source": [
        "import random\n",
        "def char_to_idx(dataset):\n",
        "  '''Given the whole dataset it will extract the char to indices dictionary'''\n",
        "  id = 1\n",
        "  char_to_id_dict = {\" \":0}\n",
        "  for sentence in dataset:\n",
        "    for token in sentence:\n",
        "      for char in token.text:\n",
        "        if char not in char_to_id_dict:\n",
        "          char_to_id_dict[char] = id\n",
        "          id += 1\n",
        "  return char_to_id_dict\n",
        "\n",
        "def sentence_to_idx(sentence, char_to_id_dic, handling_apostrophe = False):\n",
        "  result = []\n",
        "  if handling_apostrophe:\n",
        "    sentence = apostrophe_handler(sentence)\n",
        "\n",
        "  if type(sentence) == str:\n",
        "    for char in sentence:\n",
        "      result.append(char_to_id_dict[char])\n",
        "    return result\n",
        "  \n",
        "  elif type(sentence) == flair.data.Sentence:\n",
        "    for token in sentence:\n",
        "      for char in token.text:\n",
        "        result.append(char_to_id_dict[char])\n",
        "      result.append(char_to_id_dict[\" \"]) # adding a \" \" token between each token in the sequence\n",
        "    return result\n",
        "\n",
        "def dataset_to_idx(dataset, handling_apostrophe = False):\n",
        "''' Return a list of lists of indices for each sentence'''\n",
        "    result = []\n",
        "    char_to_id_dict = char_to_idx(dataset)\n",
        "    for sentence in dataset:\n",
        "      result.append(sentence_to_idx(sentence, char_to_id_dict, handling_apostrophe))\n",
        "    return result\n",
        "  \n",
        "def dataset_to_idx_generator(dataset, handling_apostrophe = False):\n",
        "''' Data generator for Pytorch input'''\n",
        "    char_to_id_dict = char_to_idx(dataset)\n",
        "    for sentence in dataset:\n",
        "      yield sentence_to_idx(sentence, char_to_id_dict, handling_apostrophe)\n",
        "\n",
        "char_to_id_dict = char_to_idx(downsampled_corpus.train)\n",
        "\n",
        "# a string object sentence to a list of indices test\n",
        "print(sentence_to_idx(\"Hello World!\", char_to_id_dict))\n",
        "print(\"***\")\n",
        "\n",
        "# a random Sentence object sentence to a list of indices test\n",
        "random_index = random.randint(0, len(downsampled_corpus.train))\n",
        "print(downsampled_corpus.train[random_index])\n",
        "print(sentence_to_idx(downsampled_corpus.train[random_index], char_to_id_dict))\n",
        "print(\"***\")\n",
        "\n",
        "# whole dataset to a list of indices test\n",
        "print(dataset_to_idx(downsampled_corpus.train))\n",
        "print(\"***\")\n",
        "\n",
        "# whole dataset to a list generator test\n",
        "data_generator = dataset_to_idx_generator(downsampled_corpus.train)\n",
        "print(next(data_generator))\n",
        "print(\"***\")"
      ],
      "execution_count": 0,
      "outputs": []
    },
    {
      "cell_type": "markdown",
      "metadata": {
        "id": "JR3YR4G0vnF1",
        "colab_type": "text"
      },
      "source": [
        "## Imports"
      ]
    },
    {
      "cell_type": "code",
      "metadata": {
        "id": "yEGUYIKqvnF9",
        "colab_type": "code",
        "colab": {}
      },
      "source": [
        "import numpy as np\n",
        "import torch\n",
        "import torch.autograd as autograd\n",
        "import torch.nn as nn\n",
        "import torch.nn.functional as F\n",
        "import torch.optim as optim\n",
        "\n",
        "import flair.datasets\n"
      ],
      "execution_count": 0,
      "outputs": []
    },
    {
      "cell_type": "markdown",
      "metadata": {
        "id": "6gxjSY_UvnGN",
        "colab_type": "text"
      },
      "source": [
        "## Preprocessing"
      ]
    },
    {
      "cell_type": "code",
      "metadata": {
        "id": "6OKAxdgivnGQ",
        "colab_type": "code",
        "colab": {}
      },
      "source": [
        "word_to_idx = {}\n",
        "char_to_idx = {}\n",
        "\n",
        "def prepare_sequence(seq, to_idx):\n",
        "    return [(to_idx[w], [char_to_idx[c] for c in w]) for w in seq]\n",
        "\n",
        "def prepare_target(seq, to_idx):\n",
        "    return autograd.Variable(torch.LongTensor([to_idx[w] for w in seq]))\n",
        "\n",
        "training_data = [\n",
        "    (\"The dog ate the apple\".split(), [\"DET\", \"NN\", \"V\", \"DET\", \"NN\"]),\n",
        "    (\"Everybody read that book\".split(), [\"NN\", \"V\", \"DET\", \"NN\"])\n",
        "]\n",
        "\n",
        "for sent, tags in training_data:\n",
        "    for word in sent:\n",
        "        if word not in word_to_idx:\n",
        "            word_to_idx[word] = len(word_to_idx)\n",
        "        for char in word:\n",
        "            if char not in char_to_idx:\n",
        "                char_to_idx[char] = len(char_to_idx)\n",
        "\n",
        "\n",
        "tag_to_idx = {\"DET\": 0, \"NN\": 1, \"V\": 2}\n",
        "idx_to_tag = {0: \"DET\", 1: \"NN\", 2: \"V\"}"
      ],
      "execution_count": 0,
      "outputs": []
    },
    {
      "cell_type": "markdown",
      "metadata": {
        "id": "6i5DMJfsvnGY",
        "colab_type": "text"
      },
      "source": [
        "## Model"
      ]
    },
    {
      "cell_type": "code",
      "metadata": {
        "id": "yyOGvwQZvnGb",
        "colab_type": "code",
        "colab": {}
      },
      "source": [
        "CAR_EMBEDDING_DIM = 3\n",
        "WORD_EMBEDDING_DIM = 6\n",
        "HIDDEN_DIM = 6\n",
        "\n",
        "class LSTMTagger(nn.Module):\n",
        "\n",
        "    def __init__(self, word_embedding_dim, char_embedding_dim, hidden_dim, vocab_size, alphabet_size, tagset_size):\n",
        "\n",
        "        super(LSTMTagger, self).__init__()\n",
        "\n",
        "        self.hidden_dim = hidden_dim\n",
        "        self.char_embedding_dim = char_embedding_dim\n",
        "\n",
        "        self.char_embeddings = nn.Embedding(alphabet_size, char_embedding_dim)\n",
        "        self.lstm_char = nn.LSTM(char_embedding_dim, char_embedding_dim)\n",
        "\n",
        "        self.word_embeddings = nn.Embedding(vocab_size, word_embedding_dim)\n",
        "        self.lstm_word = nn.LSTM(word_embedding_dim+char_embedding_dim, hidden_dim)\n",
        "\n",
        "        self.hidden2tag = nn.Linear(hidden_dim, tagset_size)\n",
        "\n",
        "        self.hidden = self.init_hidden(hidden_dim)\n",
        "        self.hidden_char = self.init_hidden(CAR_EMBEDDING_DIM)\n",
        "\n",
        "    def init_hidden(self, dim):\n",
        "\n",
        "        return (autograd.Variable(torch.zeros(1, 1, dim)),\n",
        "                autograd.Variable(torch.zeros(1, 1, dim)))\n",
        "\n",
        "    def forward(self, sentence):\n",
        "        word_idxs = []\n",
        "        lstm_char_result = []\n",
        "        for word in sentence:\n",
        "            self.hidden_char = self.init_hidden(CAR_EMBEDDING_DIM)\n",
        "            word_idxs.append(word[0])           \n",
        "            char_idx = autograd.Variable(torch.LongTensor(word[1]))\n",
        "            char_embeds = self.char_embeddings(char_idx)\n",
        "            lstm_char_out, self.hidden_char = self.lstm_char(char_embeds.view(len(word[1]), 1, CAR_EMBEDDING_DIM), self.hidden_char)\n",
        "            lstm_char_result.append(lstm_char_out[-1])\n",
        "\n",
        "        lstm_char_result = torch.stack(lstm_char_result)\n",
        "        \n",
        "        word_embeds = self.word_embeddings(autograd.Variable(torch.LongTensor(word_idxs))).view(len(sentence), 1, WORD_EMBEDDING_DIM)\n",
        "\n",
        "        lstm_in = torch.cat((word_embeds, lstm_char_result), 2)\n",
        "\n",
        "        lstm_out, self.hidden = self.lstm_word(lstm_in, self.hidden)\n",
        "\n",
        "        tag_space = self.hidden2tag(lstm_out.view(len(sentence), -1))\n",
        "        tag_scores = F.log_softmax(tag_space)\n",
        "        return tag_scores"
      ],
      "execution_count": 0,
      "outputs": []
    },
    {
      "cell_type": "markdown",
      "metadata": {
        "id": "JkZPc2FivnGi",
        "colab_type": "text"
      },
      "source": [
        "## Training"
      ]
    },
    {
      "cell_type": "code",
      "metadata": {
        "id": "lR8lftvpvnGj",
        "colab_type": "code",
        "colab": {
          "base_uri": "https://localhost:8080/",
          "height": 139
        },
        "outputId": "842833f2-ebe9-4b6a-ca8d-076e228006a7"
      },
      "source": [
        "model = LSTMTagger(WORD_EMBEDDING_DIM, CAR_EMBEDDING_DIM, HIDDEN_DIM, len(word_to_idx), len(char_to_idx), len(tag_to_idx))\n",
        "loss_function = nn.NLLLoss()\n",
        "optimizer = optim.SGD(model.parameters(), lr=0.1)\n",
        "\n",
        "for epoch in range(300):  \n",
        "    for sentence, tags in training_data:\n",
        "        model.zero_grad()\n",
        "\n",
        "        model.hidden = model.init_hidden(HIDDEN_DIM)\n",
        "\n",
        "        sentence_in = prepare_sequence(sentence, word_to_idx)\n",
        "        \n",
        "        targets = prepare_target(tags, tag_to_idx)\n",
        "\n",
        "        tag_scores = model(sentence_in)\n",
        "\n",
        "        loss = loss_function(tag_scores, targets)\n",
        "        loss.backward()\n",
        "        optimizer.step()\n",
        "\n",
        "\n",
        "# ======================= TEST\n",
        "\n",
        "test_sentence = training_data[0][0]\n",
        "inputs = prepare_sequence(test_sentence, word_to_idx)\n",
        "tag_scores = model(inputs)\n",
        "for i in range(len(test_sentence)):\n",
        "    print('{}: {}'.format(test_sentence[i], idx_to_tag[np.argmax(tag_scores[i].data.numpy())]))"
      ],
      "execution_count": 8,
      "outputs": [
        {
          "output_type": "stream",
          "text": [
            "/usr/local/lib/python3.6/dist-packages/ipykernel_launcher.py:50: UserWarning: Implicit dimension choice for log_softmax has been deprecated. Change the call to include dim=X as an argument.\n"
          ],
          "name": "stderr"
        },
        {
          "output_type": "stream",
          "text": [
            "The: DET\n",
            "dog: NN\n",
            "ate: V\n",
            "the: DET\n",
            "apple: NN\n"
          ],
          "name": "stdout"
        }
      ]
    },
    {
      "cell_type": "code",
      "metadata": {
        "id": "K0k3R7F3vnGp",
        "colab_type": "code",
        "colab": {}
      },
      "source": [
        ""
      ],
      "execution_count": 0,
      "outputs": []
    }
  ]
}